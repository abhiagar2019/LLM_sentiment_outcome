{
 "cells": [
  {
   "cell_type": "code",
   "execution_count": 1,
   "id": "afaf4902-fa3d-47d2-b48b-939703a2f622",
   "metadata": {},
   "outputs": [],
   "source": [
    "import os\n",
    "import re\n",
    "\n",
    "# Directory where your transcripts are stored\n",
    "input_dir = './transcripts_v3/'\n",
    "output_dir = './customer_only_transcripts/'\n",
    "\n",
    "# Create output directory if it doesn't exist\n",
    "if not os.path.exists(output_dir):\n",
    "    os.makedirs(output_dir)\n",
    "\n",
    "# Function to extract customer text\n",
    "def extract_customer_text(filename):\n",
    "    with open(filename, 'r', encoding='utf-8') as file:\n",
    "        transcript = file.read()\n",
    "\n",
    "    # Assuming customer lines are labeled as 'Member:' or similar\n",
    "    customer_text = re.findall(r'(?<=Member:).*', transcript)\n",
    "\n",
    "    return '\\n'.join([line.strip() for line in customer_text if line.strip()])\n",
    "\n",
    "# Loop through all transcript files\n",
    "for i in range(200):  # Assuming you have 200 transcripts\n",
    "    input_file = os.path.join(input_dir, f'transcript_{i}.txt')\n",
    "    output_file = os.path.join(output_dir, f'transcript_{i}_customer.txt')\n",
    "\n",
    "    # Extract customer text and save to the new file\n",
    "    customer_text = extract_customer_text(input_file)\n",
    "    if customer_text:\n",
    "        with open(output_file, 'w', encoding='utf-8') as f_out:\n",
    "            f_out.write(customer_text)\n",
    "    else:\n",
    "        print(f\"No customer text found in {input_file}\")\n"
   ]
  },
  {
   "cell_type": "code",
   "execution_count": null,
   "id": "662eda2d-d657-40f6-9955-c79c90f352fa",
   "metadata": {},
   "outputs": [],
   "source": []
  }
 ],
 "metadata": {
  "kernelspec": {
   "display_name": "Python 3 (ipykernel)",
   "language": "python",
   "name": "python3"
  },
  "language_info": {
   "codemirror_mode": {
    "name": "ipython",
    "version": 3
   },
   "file_extension": ".py",
   "mimetype": "text/x-python",
   "name": "python",
   "nbconvert_exporter": "python",
   "pygments_lexer": "ipython3",
   "version": "3.11.5"
  }
 },
 "nbformat": 4,
 "nbformat_minor": 5
}
